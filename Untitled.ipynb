{
 "cells": [
  {
   "cell_type": "code",
   "execution_count": 1,
   "metadata": {},
   "outputs": [],
   "source": [
    "import os\n",
    "import sys\n",
    "import tensorflow as tf\n",
    "import numpy as np\n",
    "import argparse\n",
    "from datetime import datetime\n",
    "\n",
    "from dataset import Dataset\n",
    "from trainer import MatchingModelTrainer\n",
    "from preprocessor import Preprocessor\n",
    "from utils.dirs import create_dirs\n",
    "from utils.logger import SummaryWriter\n",
    "from utils.config import load_config, save_config\n",
    "from models.base import get_model\n",
    "from utils.utils import JamoProcessor\n",
    "\n",
    "now = datetime.now()"
   ]
  },
  {
   "cell_type": "code",
   "execution_count": 2,
   "metadata": {},
   "outputs": [],
   "source": [
    "class Config:\n",
    "    def __init__(self):\n",
    "        self.mode = \"train\"\n",
    "        self.name = \"debug1\"\n",
    "        self.config = \"\"\n",
    "        self.train_dir = \"/media/scatter/scatterdisk/reply_matching_model/debug/sol.small.txt\"\n",
    "        self.val_dir = \"/media/scatter/scatterdisk/reply_matching_model/debug/sol.small.txt\"\n",
    "        self.pretrained_embed_dir = \"/media/scatter/scatterdisk/pretrained_embedding/fasttext.sent_piece_100K.256D\"\n",
    "        self.checkpoint_dir = \"/home/angrypark/\"\n",
    "        self.model = \"DualEncoderLSTMDense\"\n",
    "        self.sent_piece_model = \"/media/scatter/scatterdisk/tokenizer/sent_piece.50K.model\"\n",
    "        self.soynlp_scores = \"/media/scatter/scatterdisk/tokenizer/soynlp_scores.sol.100M.txt\"\n",
    "        self.normalizer = \"DummyNormalizer\"\n",
    "        self.tokenizer = \"DummyTokenizer\"\n",
    "        self.vocab_size = 90000\n",
    "        self.vocab_list = \"/media/scatter/scatterdisk/pretrained_embedding/vocab_list.sent_piece_100K.txt\"\n",
    "        \n",
    "        self.embed_dim = 256\n",
    "        self.learning_rate = 1e-1\n",
    "        self.min_length = 1\n",
    "        self.max_length = 20\n",
    "        self.embed_dropout_keep_prob = 0.9\n",
    "        self.lstm_dropout_keep_prob = 0.9\n",
    "        \n",
    "        self.lstm_dim = 512\n",
    "        self.negative_sampling = \"random\"\n",
    "        self.num_negative_samples = 4\n",
    "        self.add_echo = False\n",
    "        \n",
    "        self.batch_size = 512\n",
    "        self.num_epochs = 300\n",
    "        self.evaluate_every = 100000\n",
    "        self.save_every = 1000000\n",
    "        \n",
    "        self.max_to_keep = 1\n",
    "        self.shuffle = True\n",
    "        \n",
    "        self.filter_sizes=\"2,3\"\n",
    "        self.num_filters=64\n",
    "        self.num_hidden=128\n",
    "        self.hidden_dropout_keep_prob=0.9\n",
    "        \n",
    "        self.weak_supervision=False\n",
    "\n",
    "config = Config()"
   ]
  },
  {
   "cell_type": "code",
   "execution_count": 3,
   "metadata": {},
   "outputs": [],
   "source": [
    "config = create_dirs(config)\n",
    "device_config = tf.ConfigProto()\n",
    "device_config.gpu_options.allow_growth = True\n",
    "sess = tf.Session(config=device_config)"
   ]
  },
  {
   "cell_type": "code",
   "execution_count": 4,
   "metadata": {},
   "outputs": [],
   "source": [
    "preprocessor = Preprocessor(config)"
   ]
  },
  {
   "cell_type": "code",
   "execution_count": 5,
   "metadata": {},
   "outputs": [],
   "source": [
    "data = Dataset(preprocessor, \n",
    "               config.train_dir, \n",
    "               config.val_dir, \n",
    "               config.min_length, \n",
    "               config.max_length, \n",
    "               config.num_negative_samples,\n",
    "               config.batch_size, \n",
    "               config.shuffle, \n",
    "               config.num_epochs, \n",
    "               debug=False)\n",
    "summary_writer = SummaryWriter(sess, config)\n",
    "trainer = MatchingModelTrainer(sess, preprocessor, data, config, summary_writer)"
   ]
  },
  {
   "cell_type": "code",
   "execution_count": 6,
   "metadata": {},
   "outputs": [],
   "source": [
    "data.train_size = 10000\n",
    "data.val_size = 10000\n",
    "trainer.num_steps_per_epoch = (10000 - 1) // config.batch_size + 1"
   ]
  },
  {
   "cell_type": "code",
   "execution_count": 7,
   "metadata": {},
   "outputs": [
    {
     "name": "stderr",
     "output_type": "stream",
     "text": [
      "\u001b[32m[22:38:35][INFO] Building train graph... \u001b[0m\n"
     ]
    },
    {
     "name": "stdout",
     "output_type": "stream",
     "text": [
      "Pre-trained embedding loaded. Number of OOV : 5272 / 90000\n"
     ]
    },
    {
     "ename": "ValueError",
     "evalue": "The last dimension of the inputs to `Dense` should be defined. Found `None`.",
     "output_type": "error",
     "traceback": [
      "\u001b[0;31m---------------------------------------------------------------------------\u001b[0m",
      "\u001b[0;31mValueError\u001b[0m                                Traceback (most recent call last)",
      "\u001b[0;32m<ipython-input-7-87589991b790>\u001b[0m in \u001b[0;36m<module>\u001b[0;34m()\u001b[0m\n\u001b[0;32m----> 1\u001b[0;31m \u001b[0mmodel\u001b[0m\u001b[0;34m,\u001b[0m \u001b[0msess\u001b[0m \u001b[0;34m=\u001b[0m \u001b[0mtrainer\u001b[0m\u001b[0;34m.\u001b[0m\u001b[0mbuild_graph\u001b[0m\u001b[0;34m(\u001b[0m\u001b[0;34m)\u001b[0m\u001b[0;34m\u001b[0m\u001b[0m\n\u001b[0m",
      "\u001b[0;32m~/text-matching-tensoflow/trainer.py\u001b[0m in \u001b[0;36mbuild_graph\u001b[0;34m(self, name)\u001b[0m\n\u001b[1;32m    133\u001b[0m             \u001b[0mself\u001b[0m\u001b[0;34m.\u001b[0m\u001b[0mlogger\u001b[0m\u001b[0;34m.\u001b[0m\u001b[0minfo\u001b[0m\u001b[0;34m(\u001b[0m\u001b[0;34m\"Building {} graph...\"\u001b[0m\u001b[0;34m.\u001b[0m\u001b[0mformat\u001b[0m\u001b[0;34m(\u001b[0m\u001b[0mname\u001b[0m\u001b[0;34m)\u001b[0m\u001b[0;34m)\u001b[0m\u001b[0;34m\u001b[0m\u001b[0m\n\u001b[1;32m    134\u001b[0m             \u001b[0mModel\u001b[0m \u001b[0;34m=\u001b[0m \u001b[0mget_model\u001b[0m\u001b[0;34m(\u001b[0m\u001b[0mself\u001b[0m\u001b[0;34m.\u001b[0m\u001b[0mconfig\u001b[0m\u001b[0;34m.\u001b[0m\u001b[0mmodel\u001b[0m\u001b[0;34m)\u001b[0m\u001b[0;34m\u001b[0m\u001b[0m\n\u001b[0;32m--> 135\u001b[0;31m             \u001b[0mmodel\u001b[0m \u001b[0;34m=\u001b[0m \u001b[0mModel\u001b[0m\u001b[0;34m(\u001b[0m\u001b[0mself\u001b[0m\u001b[0;34m.\u001b[0m\u001b[0mdata\u001b[0m\u001b[0;34m,\u001b[0m \u001b[0mself\u001b[0m\u001b[0;34m.\u001b[0m\u001b[0mconfig\u001b[0m\u001b[0;34m)\u001b[0m\u001b[0;34m\u001b[0m\u001b[0m\n\u001b[0m\u001b[1;32m    136\u001b[0m             \u001b[0msess\u001b[0m \u001b[0;34m=\u001b[0m \u001b[0mtf\u001b[0m\u001b[0;34m.\u001b[0m\u001b[0mSession\u001b[0m\u001b[0;34m(\u001b[0m\u001b[0mconfig\u001b[0m\u001b[0;34m=\u001b[0m\u001b[0mtf_config\u001b[0m\u001b[0;34m,\u001b[0m \u001b[0mgraph\u001b[0m\u001b[0;34m=\u001b[0m\u001b[0mgraph\u001b[0m\u001b[0;34m)\u001b[0m\u001b[0;34m\u001b[0m\u001b[0m\n\u001b[1;32m    137\u001b[0m             \u001b[0msess\u001b[0m\u001b[0;34m.\u001b[0m\u001b[0mrun\u001b[0m\u001b[0;34m(\u001b[0m\u001b[0mtf\u001b[0m\u001b[0;34m.\u001b[0m\u001b[0mglobal_variables_initializer\u001b[0m\u001b[0;34m(\u001b[0m\u001b[0;34m)\u001b[0m\u001b[0;34m)\u001b[0m\u001b[0;34m\u001b[0m\u001b[0m\n",
      "\u001b[0;32m~/text-matching-tensoflow/models/dual_encoder_lstm_dense.py\u001b[0m in \u001b[0;36m__init__\u001b[0;34m(self, dataset, config, mode)\u001b[0m\n\u001b[1;32m     16\u001b[0m         \u001b[0;32melse\u001b[0m\u001b[0;34m:\u001b[0m\u001b[0;34m\u001b[0m\u001b[0m\n\u001b[1;32m     17\u001b[0m             \u001b[0;32mraise\u001b[0m \u001b[0mNotImplementedError\u001b[0m\u001b[0;34m(\u001b[0m\u001b[0;34m)\u001b[0m\u001b[0;34m\u001b[0m\u001b[0m\n\u001b[0;32m---> 18\u001b[0;31m         \u001b[0mself\u001b[0m\u001b[0;34m.\u001b[0m\u001b[0mbuild_model\u001b[0m\u001b[0;34m(\u001b[0m\u001b[0;34m)\u001b[0m\u001b[0;34m\u001b[0m\u001b[0m\n\u001b[0m\u001b[1;32m     19\u001b[0m         \u001b[0mself\u001b[0m\u001b[0;34m.\u001b[0m\u001b[0minit_saver\u001b[0m\u001b[0;34m(\u001b[0m\u001b[0;34m)\u001b[0m\u001b[0;34m\u001b[0m\u001b[0m\n\u001b[1;32m     20\u001b[0m \u001b[0;34m\u001b[0m\u001b[0m\n",
      "\u001b[0;32m~/text-matching-tensoflow/models/dual_encoder_lstm_dense.py\u001b[0m in \u001b[0;36mbuild_model\u001b[0;34m(self)\u001b[0m\n\u001b[1;32m    133\u001b[0m         \u001b[0;32mwith\u001b[0m \u001b[0mtf\u001b[0m\u001b[0;34m.\u001b[0m\u001b[0mvariable_scope\u001b[0m\u001b[0;34m(\u001b[0m\u001b[0;34m\"prediction\"\u001b[0m\u001b[0;34m)\u001b[0m\u001b[0;34m:\u001b[0m\u001b[0;34m\u001b[0m\u001b[0m\n\u001b[1;32m    134\u001b[0m             \u001b[0mpositive_outputs\u001b[0m \u001b[0;34m=\u001b[0m \u001b[0mtf\u001b[0m\u001b[0;34m.\u001b[0m\u001b[0mlayers\u001b[0m\u001b[0;34m.\u001b[0m\u001b[0mdense\u001b[0m\u001b[0;34m(\u001b[0m\u001b[0mself\u001b[0m\u001b[0;34m.\u001b[0m\u001b[0mpositive_inputs\u001b[0m\u001b[0;34m,\u001b[0m \u001b[0;36m10\u001b[0m\u001b[0;34m,\u001b[0m \u001b[0mtf\u001b[0m\u001b[0;34m.\u001b[0m\u001b[0mnn\u001b[0m\u001b[0;34m.\u001b[0m\u001b[0mrelu\u001b[0m\u001b[0;34m,\u001b[0m \u001b[0mname\u001b[0m\u001b[0;34m=\u001b[0m\u001b[0;34m\"hidden_layer\"\u001b[0m\u001b[0;34m)\u001b[0m\u001b[0;34m\u001b[0m\u001b[0m\n\u001b[0;32m--> 135\u001b[0;31m             \u001b[0mnegative_outputs\u001b[0m \u001b[0;34m=\u001b[0m \u001b[0mtf\u001b[0m\u001b[0;34m.\u001b[0m\u001b[0mlayers\u001b[0m\u001b[0;34m.\u001b[0m\u001b[0mdense\u001b[0m\u001b[0;34m(\u001b[0m\u001b[0mself\u001b[0m\u001b[0;34m.\u001b[0m\u001b[0mnegative_inputs\u001b[0m\u001b[0;34m,\u001b[0m \u001b[0;36m10\u001b[0m\u001b[0;34m,\u001b[0m \u001b[0mtf\u001b[0m\u001b[0;34m.\u001b[0m\u001b[0mnn\u001b[0m\u001b[0;34m.\u001b[0m\u001b[0mrelu\u001b[0m\u001b[0;34m,\u001b[0m \u001b[0mname\u001b[0m\u001b[0;34m=\u001b[0m\u001b[0;34m\"hidden_layer\"\u001b[0m\u001b[0;34m,\u001b[0m \u001b[0mreuse\u001b[0m\u001b[0;34m=\u001b[0m\u001b[0;32mTrue\u001b[0m\u001b[0;34m)\u001b[0m\u001b[0;34m\u001b[0m\u001b[0m\n\u001b[0m\u001b[1;32m    136\u001b[0m \u001b[0;34m\u001b[0m\u001b[0m\n\u001b[1;32m    137\u001b[0m             \u001b[0mself\u001b[0m\u001b[0;34m.\u001b[0m\u001b[0mpositive_logits\u001b[0m \u001b[0;34m=\u001b[0m \u001b[0mtf\u001b[0m\u001b[0;34m.\u001b[0m\u001b[0mlayers\u001b[0m\u001b[0;34m.\u001b[0m\u001b[0mdense\u001b[0m\u001b[0;34m(\u001b[0m\u001b[0mpositive_outputs\u001b[0m\u001b[0;34m,\u001b[0m \u001b[0;36m1\u001b[0m\u001b[0;34m,\u001b[0m \u001b[0mtf\u001b[0m\u001b[0;34m.\u001b[0m\u001b[0mnn\u001b[0m\u001b[0;34m.\u001b[0m\u001b[0mrelu\u001b[0m\u001b[0;34m,\u001b[0m \u001b[0mname\u001b[0m\u001b[0;34m=\u001b[0m\u001b[0;34m\"output_layer\"\u001b[0m\u001b[0;34m)\u001b[0m\u001b[0;34m\u001b[0m\u001b[0m\n",
      "\u001b[0;32m~/angryenv/lib/python3.5/site-packages/tensorflow/python/layers/core.py\u001b[0m in \u001b[0;36mdense\u001b[0;34m(inputs, units, activation, use_bias, kernel_initializer, bias_initializer, kernel_regularizer, bias_regularizer, activity_regularizer, kernel_constraint, bias_constraint, trainable, name, reuse)\u001b[0m\n\u001b[1;32m    188\u001b[0m                 \u001b[0m_scope\u001b[0m\u001b[0;34m=\u001b[0m\u001b[0mname\u001b[0m\u001b[0;34m,\u001b[0m\u001b[0;34m\u001b[0m\u001b[0m\n\u001b[1;32m    189\u001b[0m                 _reuse=reuse)\n\u001b[0;32m--> 190\u001b[0;31m   \u001b[0;32mreturn\u001b[0m \u001b[0mlayer\u001b[0m\u001b[0;34m.\u001b[0m\u001b[0mapply\u001b[0m\u001b[0;34m(\u001b[0m\u001b[0minputs\u001b[0m\u001b[0;34m)\u001b[0m\u001b[0;34m\u001b[0m\u001b[0m\n\u001b[0m\u001b[1;32m    191\u001b[0m \u001b[0;34m\u001b[0m\u001b[0m\n\u001b[1;32m    192\u001b[0m \u001b[0;34m\u001b[0m\u001b[0m\n",
      "\u001b[0;32m~/angryenv/lib/python3.5/site-packages/tensorflow/python/keras/engine/base_layer.py\u001b[0m in \u001b[0;36mapply\u001b[0;34m(self, inputs, *args, **kwargs)\u001b[0m\n\u001b[1;32m    772\u001b[0m       \u001b[0mOutput\u001b[0m \u001b[0mtensor\u001b[0m\u001b[0;34m(\u001b[0m\u001b[0ms\u001b[0m\u001b[0;34m)\u001b[0m\u001b[0;34m.\u001b[0m\u001b[0;34m\u001b[0m\u001b[0m\n\u001b[1;32m    773\u001b[0m     \"\"\"\n\u001b[0;32m--> 774\u001b[0;31m     \u001b[0;32mreturn\u001b[0m \u001b[0mself\u001b[0m\u001b[0;34m.\u001b[0m\u001b[0m__call__\u001b[0m\u001b[0;34m(\u001b[0m\u001b[0minputs\u001b[0m\u001b[0;34m,\u001b[0m \u001b[0;34m*\u001b[0m\u001b[0margs\u001b[0m\u001b[0;34m,\u001b[0m \u001b[0;34m**\u001b[0m\u001b[0mkwargs\u001b[0m\u001b[0;34m)\u001b[0m\u001b[0;34m\u001b[0m\u001b[0m\n\u001b[0m\u001b[1;32m    775\u001b[0m \u001b[0;34m\u001b[0m\u001b[0m\n\u001b[1;32m    776\u001b[0m   \u001b[0;32mdef\u001b[0m \u001b[0m_set_learning_phase_metadata\u001b[0m\u001b[0;34m(\u001b[0m\u001b[0mself\u001b[0m\u001b[0;34m,\u001b[0m \u001b[0minputs\u001b[0m\u001b[0;34m,\u001b[0m \u001b[0moutputs\u001b[0m\u001b[0;34m)\u001b[0m\u001b[0;34m:\u001b[0m\u001b[0;34m\u001b[0m\u001b[0m\n",
      "\u001b[0;32m~/angryenv/lib/python3.5/site-packages/tensorflow/python/layers/base.py\u001b[0m in \u001b[0;36m__call__\u001b[0;34m(self, inputs, *args, **kwargs)\u001b[0m\n\u001b[1;32m    327\u001b[0m \u001b[0;34m\u001b[0m\u001b[0m\n\u001b[1;32m    328\u001b[0m       \u001b[0;31m# Actually call layer\u001b[0m\u001b[0;34m\u001b[0m\u001b[0;34m\u001b[0m\u001b[0m\n\u001b[0;32m--> 329\u001b[0;31m       \u001b[0moutputs\u001b[0m \u001b[0;34m=\u001b[0m \u001b[0msuper\u001b[0m\u001b[0;34m(\u001b[0m\u001b[0mLayer\u001b[0m\u001b[0;34m,\u001b[0m \u001b[0mself\u001b[0m\u001b[0;34m)\u001b[0m\u001b[0;34m.\u001b[0m\u001b[0m__call__\u001b[0m\u001b[0;34m(\u001b[0m\u001b[0minputs\u001b[0m\u001b[0;34m,\u001b[0m \u001b[0;34m*\u001b[0m\u001b[0margs\u001b[0m\u001b[0;34m,\u001b[0m \u001b[0;34m**\u001b[0m\u001b[0mkwargs\u001b[0m\u001b[0;34m)\u001b[0m\u001b[0;34m\u001b[0m\u001b[0m\n\u001b[0m\u001b[1;32m    330\u001b[0m \u001b[0;34m\u001b[0m\u001b[0m\n\u001b[1;32m    331\u001b[0m     \u001b[0;32mif\u001b[0m \u001b[0;32mnot\u001b[0m \u001b[0mcontext\u001b[0m\u001b[0;34m.\u001b[0m\u001b[0mexecuting_eagerly\u001b[0m\u001b[0;34m(\u001b[0m\u001b[0;34m)\u001b[0m\u001b[0;34m:\u001b[0m\u001b[0;34m\u001b[0m\u001b[0m\n",
      "\u001b[0;32m~/angryenv/lib/python3.5/site-packages/tensorflow/python/keras/engine/base_layer.py\u001b[0m in \u001b[0;36m__call__\u001b[0;34m(self, inputs, *args, **kwargs)\u001b[0m\n\u001b[1;32m    694\u001b[0m         \u001b[0;32mif\u001b[0m \u001b[0mall\u001b[0m\u001b[0;34m(\u001b[0m\u001b[0mhasattr\u001b[0m\u001b[0;34m(\u001b[0m\u001b[0mx\u001b[0m\u001b[0;34m,\u001b[0m \u001b[0;34m'get_shape'\u001b[0m\u001b[0;34m)\u001b[0m \u001b[0;32mfor\u001b[0m \u001b[0mx\u001b[0m \u001b[0;32min\u001b[0m \u001b[0minput_list\u001b[0m\u001b[0;34m)\u001b[0m\u001b[0;34m:\u001b[0m\u001b[0;34m\u001b[0m\u001b[0m\n\u001b[1;32m    695\u001b[0m           \u001b[0minput_shapes\u001b[0m \u001b[0;34m=\u001b[0m \u001b[0mnest\u001b[0m\u001b[0;34m.\u001b[0m\u001b[0mmap_structure\u001b[0m\u001b[0;34m(\u001b[0m\u001b[0;32mlambda\u001b[0m \u001b[0mx\u001b[0m\u001b[0;34m:\u001b[0m \u001b[0mx\u001b[0m\u001b[0;34m.\u001b[0m\u001b[0mget_shape\u001b[0m\u001b[0;34m(\u001b[0m\u001b[0;34m)\u001b[0m\u001b[0;34m,\u001b[0m \u001b[0minputs\u001b[0m\u001b[0;34m)\u001b[0m\u001b[0;34m\u001b[0m\u001b[0m\n\u001b[0;32m--> 696\u001b[0;31m         \u001b[0mself\u001b[0m\u001b[0;34m.\u001b[0m\u001b[0mbuild\u001b[0m\u001b[0;34m(\u001b[0m\u001b[0minput_shapes\u001b[0m\u001b[0;34m)\u001b[0m\u001b[0;34m\u001b[0m\u001b[0m\n\u001b[0m\u001b[1;32m    697\u001b[0m \u001b[0;34m\u001b[0m\u001b[0m\n\u001b[1;32m    698\u001b[0m       \u001b[0;31m# Check input assumptions set after layer building, e.g. input shape.\u001b[0m\u001b[0;34m\u001b[0m\u001b[0;34m\u001b[0m\u001b[0m\n",
      "\u001b[0;32m~/angryenv/lib/python3.5/site-packages/tensorflow/python/keras/layers/core.py\u001b[0m in \u001b[0;36mbuild\u001b[0;34m(self, input_shape)\u001b[0m\n\u001b[1;32m    879\u001b[0m     \u001b[0minput_shape\u001b[0m \u001b[0;34m=\u001b[0m \u001b[0mtensor_shape\u001b[0m\u001b[0;34m.\u001b[0m\u001b[0mTensorShape\u001b[0m\u001b[0;34m(\u001b[0m\u001b[0minput_shape\u001b[0m\u001b[0;34m)\u001b[0m\u001b[0;34m\u001b[0m\u001b[0m\n\u001b[1;32m    880\u001b[0m     \u001b[0;32mif\u001b[0m \u001b[0minput_shape\u001b[0m\u001b[0;34m[\u001b[0m\u001b[0;34m-\u001b[0m\u001b[0;36m1\u001b[0m\u001b[0;34m]\u001b[0m\u001b[0;34m.\u001b[0m\u001b[0mvalue\u001b[0m \u001b[0;32mis\u001b[0m \u001b[0;32mNone\u001b[0m\u001b[0;34m:\u001b[0m\u001b[0;34m\u001b[0m\u001b[0m\n\u001b[0;32m--> 881\u001b[0;31m       raise ValueError('The last dimension of the inputs to `Dense` '\n\u001b[0m\u001b[1;32m    882\u001b[0m                        'should be defined. Found `None`.')\n\u001b[1;32m    883\u001b[0m     self.input_spec = InputSpec(min_ndim=2,\n",
      "\u001b[0;31mValueError\u001b[0m: The last dimension of the inputs to `Dense` should be defined. Found `None`."
     ]
    }
   ],
   "source": [
    "model, sess = trainer.build_graph()"
   ]
  },
  {
   "cell_type": "code",
   "execution_count": 29,
   "metadata": {},
   "outputs": [
    {
     "name": "stderr",
     "output_type": "stream",
     "text": [
      "\u001b[32m[19:08:51][INFO] Building train graph... \u001b[0m\n"
     ]
    },
    {
     "name": "stdout",
     "output_type": "stream",
     "text": [
      "Pre-trained embedding loaded. Number of OOV : 5272 / 90000\n"
     ]
    },
    {
     "name": "stderr",
     "output_type": "stream",
     "text": [
      "/home/angrypark/angryenv/lib/python3.5/site-packages/tensorflow/python/ops/gradients_impl.py:100: UserWarning: Converting sparse IndexedSlices to a dense Tensor of unknown shape. This may consume a large amount of memory.\n",
      "  \"Converting sparse IndexedSlices to a dense Tensor of unknown shape. \"\n",
      "\u001b[32m[19:08:58][INFO] Loading checkpoint from /home/angrypark/debug11/ \u001b[0m\n",
      "\u001b[31m[19:08:58][ERROR] No checkpoint found in /home/angrypark/debug11/ \u001b[0m\n",
      "\u001b[32m[19:08:58][INFO] Building val graph... \u001b[0m\n"
     ]
    },
    {
     "name": "stdout",
     "output_type": "stream",
     "text": [
      "Pre-trained embedding loaded. Number of OOV : 5272 / 90000\n"
     ]
    },
    {
     "name": "stderr",
     "output_type": "stream",
     "text": [
      "\u001b[33m[19:09:04][WARNING] =================================== Epoch 1 Start ! =================================== \u001b[0m\n",
      "\n",
      "  0%|          | 0/20 [00:00<?, ?it/s]\u001b[A\n",
      "  5%|▌         | 1/20 [00:01<00:31,  1.64s/it]\u001b[A\n",
      " 10%|█         | 2/20 [00:01<00:17,  1.03it/s]\u001b[A\n",
      " 15%|█▌        | 3/20 [00:02<00:12,  1.31it/s]\u001b[A\n",
      " 20%|██        | 4/20 [00:02<00:10,  1.57it/s]\u001b[A\n",
      " 25%|██▌       | 5/20 [00:02<00:08,  1.76it/s]\u001b[A\n",
      " 30%|███       | 6/20 [00:03<00:07,  1.91it/s]\u001b[A\n",
      " 35%|███▌      | 7/20 [00:03<00:06,  2.06it/s]\u001b[A\n",
      " 40%|████      | 8/20 [00:03<00:05,  2.18it/s]\u001b[A\n",
      " 45%|████▌     | 9/20 [00:03<00:04,  2.25it/s]\u001b[A\n",
      " 50%|█████     | 10/20 [00:04<00:04,  2.31it/s]\u001b[A\n",
      " 55%|█████▌    | 11/20 [00:04<00:03,  2.38it/s]\u001b[A\n",
      " 60%|██████    | 12/20 [00:04<00:03,  2.45it/s]\u001b[A\n",
      " 65%|██████▌   | 13/20 [00:05<00:02,  2.50it/s]\u001b[A\n",
      " 70%|███████   | 14/20 [00:05<00:02,  2.55it/s]\u001b[A\n",
      " 75%|███████▌  | 15/20 [00:05<00:01,  2.59it/s]\u001b[A\n",
      " 80%|████████  | 16/20 [00:06<00:01,  2.63it/s]\u001b[A\n",
      " 85%|████████▌ | 17/20 [00:06<00:01,  2.66it/s]\u001b[A\n",
      " 90%|█████████ | 18/20 [00:06<00:00,  2.70it/s]\u001b[A\n",
      " 95%|█████████▌| 19/20 [00:06<00:00,  2.75it/s]\u001b[A\n",
      "100%|██████████| 20/20 [00:07<00:00,  2.77it/s]\u001b[A\n",
      "\u001b[A\u001b[33m[19:09:11][WARNING] =================================== Epoch 1 Done ! =================================== \u001b[0m\n"
     ]
    },
    {
     "name": "stdout",
     "output_type": "stream",
     "text": [
      "INFO:tensorflow:Restoring parameters from /home/angrypark/debug11/model.ckpt\n"
     ]
    },
    {
     "name": "stderr",
     "output_type": "stream",
     "text": [
      "\n",
      "  0%|          | 0/20 [00:00<?, ?it/s]\u001b[A\n",
      "  5%|▌         | 1/20 [00:00<00:08,  2.30it/s]\u001b[A\n",
      " 10%|█         | 2/20 [00:00<00:05,  3.01it/s]\u001b[A\n",
      " 15%|█▌        | 3/20 [00:00<00:05,  3.30it/s]\u001b[A\n",
      " 20%|██        | 4/20 [00:01<00:04,  3.52it/s]\u001b[A\n",
      " 25%|██▌       | 5/20 [00:01<00:04,  3.66it/s]\u001b[A\n",
      " 30%|███       | 6/20 [00:01<00:03,  3.78it/s]\u001b[A\n",
      " 35%|███▌      | 7/20 [00:01<00:03,  3.84it/s]\u001b[A\n",
      " 40%|████      | 8/20 [00:02<00:03,  3.98it/s]\u001b[A\n",
      " 45%|████▌     | 9/20 [00:02<00:02,  4.02it/s]\u001b[A\n",
      " 50%|█████     | 10/20 [00:02<00:02,  4.01it/s]\u001b[A\n",
      " 55%|█████▌    | 11/20 [00:02<00:02,  4.00it/s]\u001b[A\n",
      " 60%|██████    | 12/20 [00:02<00:01,  4.01it/s]\u001b[A\n",
      " 65%|██████▌   | 13/20 [00:03<00:01,  4.05it/s]\u001b[A\n",
      " 70%|███████   | 14/20 [00:03<00:01,  4.09it/s]\u001b[A\n",
      " 75%|███████▌  | 15/20 [00:03<00:01,  4.12it/s]\u001b[A\n",
      " 80%|████████  | 16/20 [00:03<00:00,  4.15it/s]\u001b[A\n",
      " 85%|████████▌ | 17/20 [00:04<00:00,  4.12it/s]\u001b[A\n",
      " 90%|█████████ | 18/20 [00:04<00:00,  4.16it/s]\u001b[A\n",
      " 95%|█████████▌| 19/20 [00:04<00:00,  4.19it/s]\u001b[A\n",
      "100%|██████████| 20/20 [00:04<00:00,  4.21it/s]\u001b[A\n",
      "\u001b[A\u001b[33m[19:09:17][WARNING] [Step 21] Saving for best loss : 100000.00000 -> 7.06440 \u001b[0m\n",
      "\u001b[33m[19:09:18][WARNING] | Val loss : 7.0644 | Val accuracy : 0.4555  \u001b[0m\n",
      "\u001b[33m[19:09:18][WARNING] =================================== Epoch 2 Start ! =================================== \u001b[0m\n",
      "\n",
      "  0%|          | 0/20 [00:00<?, ?it/s]\u001b[A\n",
      "  5%|▌         | 1/20 [00:00<00:05,  3.53it/s]\u001b[A\n",
      " 10%|█         | 2/20 [00:00<00:05,  3.56it/s]\u001b[A\n",
      " 15%|█▌        | 3/20 [00:00<00:04,  3.61it/s]\u001b[A\n",
      " 20%|██        | 4/20 [00:01<00:04,  3.62it/s]\u001b[A\n",
      " 25%|██▌       | 5/20 [00:01<00:04,  3.63it/s]\u001b[A\n",
      " 30%|███       | 6/20 [00:01<00:03,  3.66it/s]\u001b[A\n",
      " 35%|███▌      | 7/20 [00:01<00:03,  3.66it/s]\u001b[A\n",
      " 40%|████      | 8/20 [00:02<00:03,  3.64it/s]\u001b[A\n",
      " 45%|████▌     | 9/20 [00:02<00:03,  3.65it/s]\u001b[A\n",
      " 50%|█████     | 10/20 [00:02<00:02,  3.65it/s]\u001b[A\n",
      " 55%|█████▌    | 11/20 [00:02<00:02,  3.68it/s]\u001b[A\n",
      " 60%|██████    | 12/20 [00:03<00:02,  3.60it/s]\u001b[A\n",
      " 65%|██████▌   | 13/20 [00:03<00:01,  3.60it/s]\u001b[A\n",
      " 70%|███████   | 14/20 [00:03<00:01,  3.64it/s]\u001b[A\n",
      " 75%|███████▌  | 15/20 [00:04<00:01,  3.66it/s]\u001b[A\n",
      " 80%|████████  | 16/20 [00:04<00:01,  3.61it/s]\u001b[A\n",
      " 85%|████████▌ | 17/20 [00:04<00:00,  3.61it/s]\u001b[A\n",
      " 90%|█████████ | 18/20 [00:05<00:00,  3.55it/s]\u001b[A\n",
      " 95%|█████████▌| 19/20 [00:05<00:00,  3.53it/s]\u001b[A\n",
      "100%|██████████| 20/20 [00:05<00:00,  3.52it/s]\u001b[A\n",
      "\u001b[A\u001b[33m[19:09:24][WARNING] =================================== Epoch 2 Done ! =================================== \u001b[0m\n"
     ]
    },
    {
     "name": "stdout",
     "output_type": "stream",
     "text": [
      "INFO:tensorflow:Restoring parameters from /home/angrypark/debug11/model.ckpt\n"
     ]
    },
    {
     "name": "stderr",
     "output_type": "stream",
     "text": [
      "\n",
      "  0%|          | 0/20 [00:00<?, ?it/s]\u001b[A\n",
      "  5%|▌         | 1/20 [00:00<00:04,  3.98it/s]\u001b[A\n",
      " 10%|█         | 2/20 [00:00<00:04,  4.32it/s]\u001b[A\n",
      " 15%|█▌        | 3/20 [00:00<00:04,  4.24it/s]\u001b[A\n",
      " 20%|██        | 4/20 [00:00<00:03,  4.40it/s]\u001b[A\n",
      " 25%|██▌       | 5/20 [00:01<00:03,  4.54it/s]\u001b[A\n",
      " 30%|███       | 6/20 [00:01<00:03,  4.47it/s]\u001b[A\n",
      " 35%|███▌      | 7/20 [00:01<00:02,  4.48it/s]\u001b[A\n",
      " 40%|████      | 8/20 [00:01<00:02,  4.46it/s]\u001b[A\n",
      " 45%|████▌     | 9/20 [00:02<00:02,  4.39it/s]\u001b[A\n",
      " 50%|█████     | 10/20 [00:02<00:02,  4.36it/s]\u001b[A\n",
      " 55%|█████▌    | 11/20 [00:02<00:02,  4.33it/s]\u001b[A\n",
      " 60%|██████    | 12/20 [00:02<00:01,  4.33it/s]\u001b[A\n",
      " 65%|██████▌   | 13/20 [00:03<00:01,  4.32it/s]\u001b[A\n",
      " 70%|███████   | 14/20 [00:03<00:01,  4.32it/s]\u001b[A\n",
      " 75%|███████▌  | 15/20 [00:03<00:01,  4.30it/s]\u001b[A\n",
      " 80%|████████  | 16/20 [00:03<00:00,  4.30it/s]\u001b[A\n",
      " 85%|████████▌ | 17/20 [00:03<00:00,  4.28it/s]\u001b[A\n",
      " 90%|█████████ | 18/20 [00:04<00:00,  4.33it/s]\u001b[A\n",
      " 95%|█████████▌| 19/20 [00:04<00:00,  4.35it/s]\u001b[A\n",
      "100%|██████████| 20/20 [00:04<00:00,  4.35it/s]\u001b[A\n",
      "\u001b[A\u001b[33m[19:09:30][WARNING] | Val loss : 8.7789 | Val accuracy : 0.4788  \u001b[0m\n",
      "\u001b[33m[19:09:30][WARNING] =================================== Epoch 3 Start ! =================================== \u001b[0m\n",
      "\n",
      "  0%|          | 0/20 [00:00<?, ?it/s]\u001b[A\n",
      "  5%|▌         | 1/20 [00:00<00:05,  3.17it/s]\u001b[A\n",
      " 10%|█         | 2/20 [00:00<00:05,  3.26it/s]\u001b[A\n",
      " 15%|█▌        | 3/20 [00:00<00:05,  3.30it/s]\u001b[A\n",
      " 20%|██        | 4/20 [00:01<00:04,  3.35it/s]\u001b[A\n",
      " 25%|██▌       | 5/20 [00:01<00:04,  3.37it/s]\u001b[A\n",
      " 30%|███       | 6/20 [00:01<00:04,  3.35it/s]\u001b[A\n",
      " 35%|███▌      | 7/20 [00:02<00:03,  3.40it/s]\u001b[A\n",
      " 40%|████      | 8/20 [00:02<00:03,  3.40it/s]\u001b[A\n",
      " 45%|████▌     | 9/20 [00:02<00:03,  3.39it/s]\u001b[A\n",
      " 50%|█████     | 10/20 [00:03<00:03,  3.32it/s]\u001b[A\n",
      " 55%|█████▌    | 11/20 [00:03<00:02,  3.33it/s]\u001b[A\n",
      " 60%|██████    | 12/20 [00:03<00:02,  3.35it/s]\u001b[A\n",
      " 65%|██████▌   | 13/20 [00:03<00:02,  3.39it/s]\u001b[A\n",
      " 70%|███████   | 14/20 [00:04<00:01,  3.38it/s]\u001b[A\n",
      " 75%|███████▌  | 15/20 [00:04<00:01,  3.40it/s]\u001b[A\n",
      " 80%|████████  | 16/20 [00:04<00:01,  3.42it/s]\u001b[A\n",
      " 85%|████████▌ | 17/20 [00:04<00:00,  3.43it/s]\u001b[A\n",
      " 90%|█████████ | 18/20 [00:05<00:00,  3.43it/s]\u001b[A\n",
      " 95%|█████████▌| 19/20 [00:05<00:00,  3.44it/s]\u001b[A\n",
      "100%|██████████| 20/20 [00:05<00:00,  3.46it/s]\u001b[A\n",
      "\u001b[A\u001b[33m[19:09:35][WARNING] =================================== Epoch 3 Done ! =================================== \u001b[0m\n"
     ]
    },
    {
     "name": "stdout",
     "output_type": "stream",
     "text": [
      "INFO:tensorflow:Restoring parameters from /home/angrypark/debug11/model.ckpt\n"
     ]
    },
    {
     "name": "stderr",
     "output_type": "stream",
     "text": [
      "\n",
      "  0%|          | 0/20 [00:00<?, ?it/s]\u001b[A\n",
      "  5%|▌         | 1/20 [00:00<00:04,  4.10it/s]\u001b[A\n",
      " 10%|█         | 2/20 [00:00<00:04,  4.48it/s]\u001b[A\n",
      " 15%|█▌        | 3/20 [00:00<00:03,  4.77it/s]\u001b[A\n",
      " 20%|██        | 4/20 [00:00<00:03,  4.69it/s]\u001b[A\n",
      " 25%|██▌       | 5/20 [00:01<00:03,  4.67it/s]\u001b[A\n",
      " 30%|███       | 6/20 [00:01<00:02,  4.74it/s]\u001b[A\n",
      " 35%|███▌      | 7/20 [00:01<00:02,  4.74it/s]\u001b[A\n",
      " 40%|████      | 8/20 [00:01<00:02,  4.62it/s]\u001b[A\n",
      " 45%|████▌     | 9/20 [00:01<00:02,  4.60it/s]\u001b[A\n",
      " 50%|█████     | 10/20 [00:02<00:02,  4.63it/s]\u001b[A\n",
      " 55%|█████▌    | 11/20 [00:02<00:01,  4.68it/s]\u001b[A\n",
      " 60%|██████    | 12/20 [00:02<00:01,  4.68it/s]\u001b[A\n",
      " 65%|██████▌   | 13/20 [00:02<00:01,  4.68it/s]\u001b[A\n",
      " 70%|███████   | 14/20 [00:02<00:01,  4.74it/s]\u001b[A\n",
      " 75%|███████▌  | 15/20 [00:03<00:01,  4.73it/s]\u001b[A\n",
      " 80%|████████  | 16/20 [00:03<00:00,  4.71it/s]\u001b[A\n",
      " 85%|████████▌ | 17/20 [00:03<00:00,  4.70it/s]\u001b[A\n",
      " 90%|█████████ | 18/20 [00:03<00:00,  4.70it/s]\u001b[A\n",
      " 95%|█████████▌| 19/20 [00:04<00:00,  4.73it/s]\u001b[A\n",
      "100%|██████████| 20/20 [00:04<00:00,  4.65it/s]\u001b[A\n",
      "\u001b[A\u001b[33m[19:09:41][WARNING] [Step 61] Saving for best loss : 7.06440 -> 3.89456 \u001b[0m\n",
      "\u001b[33m[19:09:42][WARNING] | Val loss : 3.8946 | Val accuracy : 0.4630  \u001b[0m\n",
      "\u001b[33m[19:09:42][WARNING] =================================== Epoch 4 Start ! =================================== \u001b[0m\n",
      "\n",
      "  0%|          | 0/20 [00:00<?, ?it/s]\u001b[A\n",
      "  5%|▌         | 1/20 [00:00<00:05,  3.25it/s]\u001b[A\n",
      " 10%|█         | 2/20 [00:00<00:05,  3.41it/s]\u001b[A\n",
      " 15%|█▌        | 3/20 [00:00<00:04,  3.52it/s]\u001b[A\n",
      " 20%|██        | 4/20 [00:01<00:04,  3.54it/s]\u001b[A\n",
      " 25%|██▌       | 5/20 [00:01<00:04,  3.51it/s]\u001b[A\n",
      " 30%|███       | 6/20 [00:01<00:03,  3.54it/s]\u001b[A\n",
      " 35%|███▌      | 7/20 [00:01<00:03,  3.57it/s]\u001b[A\n",
      " 40%|████      | 8/20 [00:02<00:03,  3.60it/s]\u001b[A\n",
      " 45%|████▌     | 9/20 [00:02<00:03,  3.62it/s]\u001b[A\n",
      " 50%|█████     | 10/20 [00:02<00:02,  3.66it/s]\u001b[A\n",
      " 55%|█████▌    | 11/20 [00:02<00:02,  3.68it/s]\u001b[A\n",
      " 60%|██████    | 12/20 [00:03<00:02,  3.64it/s]\u001b[A\n",
      " 65%|██████▌   | 13/20 [00:03<00:01,  3.64it/s]\u001b[A\n",
      " 70%|███████   | 14/20 [00:03<00:01,  3.62it/s]\u001b[A\n",
      " 75%|███████▌  | 15/20 [00:04<00:01,  3.62it/s]\u001b[A\n",
      " 80%|████████  | 16/20 [00:04<00:01,  3.62it/s]\u001b[A\n",
      " 85%|████████▌ | 17/20 [00:04<00:00,  3.61it/s]\u001b[A\n",
      " 90%|█████████ | 18/20 [00:04<00:00,  3.61it/s]\u001b[A\n",
      " 95%|█████████▌| 19/20 [00:05<00:00,  3.59it/s]\u001b[A\n",
      "100%|██████████| 20/20 [00:05<00:00,  3.59it/s]\u001b[A\n",
      "\u001b[A\u001b[33m[19:09:48][WARNING] =================================== Epoch 4 Done ! =================================== \u001b[0m\n"
     ]
    },
    {
     "name": "stdout",
     "output_type": "stream",
     "text": [
      "INFO:tensorflow:Restoring parameters from /home/angrypark/debug11/model.ckpt\n"
     ]
    },
    {
     "name": "stderr",
     "output_type": "stream",
     "text": [
      "\n",
      "  0%|          | 0/20 [00:00<?, ?it/s]\u001b[A\n",
      "  5%|▌         | 1/20 [00:00<00:04,  4.52it/s]\u001b[A\n",
      " 10%|█         | 2/20 [00:00<00:03,  4.57it/s]\u001b[A\n",
      " 15%|█▌        | 3/20 [00:00<00:03,  4.45it/s]\u001b[A\n",
      " 20%|██        | 4/20 [00:00<00:03,  4.33it/s]\u001b[A\n",
      " 25%|██▌       | 5/20 [00:01<00:03,  4.22it/s]\u001b[A\n",
      " 30%|███       | 6/20 [00:01<00:03,  4.35it/s]\u001b[A\n",
      " 35%|███▌      | 7/20 [00:01<00:02,  4.43it/s]\u001b[A\n",
      " 40%|████      | 8/20 [00:01<00:02,  4.49it/s]\u001b[A\n",
      " 45%|████▌     | 9/20 [00:02<00:02,  4.47it/s]\u001b[A\n",
      " 50%|█████     | 10/20 [00:02<00:02,  4.50it/s]\u001b[A\n",
      " 55%|█████▌    | 11/20 [00:02<00:01,  4.55it/s]\u001b[A\n",
      " 60%|██████    | 12/20 [00:02<00:01,  4.56it/s]\u001b[A\n",
      " 65%|██████▌   | 13/20 [00:02<00:01,  4.60it/s]\u001b[A\n",
      " 70%|███████   | 14/20 [00:03<00:01,  4.62it/s]\u001b[A\n",
      " 75%|███████▌  | 15/20 [00:03<00:01,  4.60it/s]\u001b[A\n",
      " 80%|████████  | 16/20 [00:03<00:00,  4.63it/s]\u001b[A\n",
      " 85%|████████▌ | 17/20 [00:03<00:00,  4.63it/s]\u001b[A\n",
      " 90%|█████████ | 18/20 [00:03<00:00,  4.65it/s]\u001b[A\n",
      " 95%|█████████▌| 19/20 [00:04<00:00,  4.64it/s]\u001b[A\n",
      "100%|██████████| 20/20 [00:04<00:00,  4.62it/s]\u001b[A\n",
      "\u001b[A\u001b[33m[19:09:53][WARNING] | Val loss : 6.3735 | Val accuracy : 0.5142  \u001b[0m\n",
      "\u001b[33m[19:09:53][WARNING] =================================== Epoch 5 Start ! =================================== \u001b[0m\n",
      "\n",
      "  0%|          | 0/20 [00:00<?, ?it/s]\u001b[A\n",
      "  5%|▌         | 1/20 [00:00<00:05,  3.72it/s]\u001b[A\n",
      " 10%|█         | 2/20 [00:00<00:04,  3.67it/s]\u001b[A\n",
      " 15%|█▌        | 3/20 [00:00<00:04,  3.70it/s]\u001b[A\n",
      " 20%|██        | 4/20 [00:01<00:04,  3.77it/s]\u001b[A\n",
      " 25%|██▌       | 5/20 [00:01<00:04,  3.57it/s]\u001b[A\n",
      " 30%|███       | 6/20 [00:01<00:03,  3.56it/s]\u001b[A\n",
      " 35%|███▌      | 7/20 [00:01<00:03,  3.51it/s]\u001b[A\n",
      " 40%|████      | 8/20 [00:02<00:03,  3.52it/s]\u001b[A\n",
      " 45%|████▌     | 9/20 [00:02<00:03,  3.52it/s]\u001b[A\n",
      " 50%|█████     | 10/20 [00:02<00:02,  3.53it/s]\u001b[A\n",
      " 55%|█████▌    | 11/20 [00:03<00:02,  3.54it/s]\u001b[A\n",
      " 60%|██████    | 12/20 [00:03<00:02,  3.54it/s]\u001b[A\n",
      " 65%|██████▌   | 13/20 [00:03<00:01,  3.54it/s]\u001b[A\n",
      " 70%|███████   | 14/20 [00:03<00:01,  3.54it/s]\u001b[A\n",
      " 75%|███████▌  | 15/20 [00:04<00:01,  3.55it/s]\u001b[A\n",
      " 80%|████████  | 16/20 [00:04<00:01,  3.52it/s]\u001b[A\n",
      " 85%|████████▌ | 17/20 [00:04<00:00,  3.53it/s]\u001b[A\n",
      " 90%|█████████ | 18/20 [00:05<00:00,  3.50it/s]\u001b[A\n",
      " 95%|█████████▌| 19/20 [00:05<00:00,  3.51it/s]\u001b[A\n",
      "100%|██████████| 20/20 [00:05<00:00,  3.52it/s]\u001b[A\n",
      "\u001b[A\u001b[33m[19:09:59][WARNING] =================================== Epoch 5 Done ! =================================== \u001b[0m\n"
     ]
    },
    {
     "name": "stdout",
     "output_type": "stream",
     "text": [
      "INFO:tensorflow:Restoring parameters from /home/angrypark/debug11/model.ckpt\n"
     ]
    },
    {
     "name": "stderr",
     "output_type": "stream",
     "text": [
      "\n",
      "  0%|          | 0/20 [00:00<?, ?it/s]\u001b[A\n",
      "  5%|▌         | 1/20 [00:00<00:03,  5.16it/s]\u001b[A\n",
      " 10%|█         | 2/20 [00:00<00:03,  4.83it/s]\u001b[A\n",
      " 15%|█▌        | 3/20 [00:00<00:03,  4.85it/s]\u001b[A\n",
      " 20%|██        | 4/20 [00:00<00:03,  4.63it/s]\u001b[A\n",
      " 25%|██▌       | 5/20 [00:01<00:03,  4.59it/s]\u001b[A\n",
      " 30%|███       | 6/20 [00:01<00:03,  4.63it/s]\u001b[A\n",
      " 35%|███▌      | 7/20 [00:01<00:02,  4.61it/s]\u001b[A\n",
      " 40%|████      | 8/20 [00:01<00:02,  4.50it/s]\u001b[A\n",
      " 45%|████▌     | 9/20 [00:01<00:02,  4.58it/s]\u001b[A\n",
      " 50%|█████     | 10/20 [00:02<00:02,  4.59it/s]\u001b[A\n",
      " 55%|█████▌    | 11/20 [00:02<00:01,  4.59it/s]\u001b[A\n",
      " 60%|██████    | 12/20 [00:02<00:01,  4.54it/s]\u001b[A\n",
      " 65%|██████▌   | 13/20 [00:02<00:01,  4.52it/s]\u001b[A\n",
      " 70%|███████   | 14/20 [00:03<00:01,  4.52it/s]\u001b[A\n",
      " 75%|███████▌  | 15/20 [00:03<00:01,  4.51it/s]\u001b[A\n",
      " 80%|████████  | 16/20 [00:03<00:00,  4.53it/s]\u001b[A\n",
      " 85%|████████▌ | 17/20 [00:03<00:00,  4.52it/s]\u001b[A\n",
      " 90%|█████████ | 18/20 [00:03<00:00,  4.53it/s]\u001b[A\n",
      " 95%|█████████▌| 19/20 [00:04<00:00,  4.53it/s]\u001b[A\n",
      "100%|██████████| 20/20 [00:04<00:00,  4.56it/s]\u001b[A\n",
      "\u001b[A\u001b[33m[19:10:04][WARNING] | Val loss : 7.2536 | Val accuracy : 0.5399  \u001b[0m\n",
      "\u001b[33m[19:10:04][WARNING] =================================== Epoch 6 Start ! =================================== \u001b[0m\n",
      "\n",
      "  0%|          | 0/20 [00:00<?, ?it/s]\u001b[A\n",
      "  5%|▌         | 1/20 [00:00<00:05,  3.19it/s]\u001b[A\n",
      " 10%|█         | 2/20 [00:00<00:05,  3.34it/s]\u001b[A\n",
      " 15%|█▌        | 3/20 [00:00<00:04,  3.46it/s]\u001b[A\n",
      " 20%|██        | 4/20 [00:01<00:04,  3.54it/s]\u001b[A\n",
      " 25%|██▌       | 5/20 [00:01<00:04,  3.55it/s]\u001b[A\n",
      " 30%|███       | 6/20 [00:01<00:03,  3.57it/s]\u001b[A\n",
      " 35%|███▌      | 7/20 [00:01<00:03,  3.51it/s]\u001b[A\n",
      " 40%|████      | 8/20 [00:02<00:03,  3.61it/s]\u001b[A\n",
      " 45%|████▌     | 9/20 [00:02<00:03,  3.60it/s]\u001b[A\n",
      " 50%|█████     | 10/20 [00:02<00:02,  3.61it/s]\u001b[A\n",
      " 55%|█████▌    | 11/20 [00:03<00:02,  3.59it/s]\u001b[A\n",
      " 60%|██████    | 12/20 [00:03<00:02,  3.56it/s]\u001b[A\n",
      " 65%|██████▌   | 13/20 [00:03<00:01,  3.62it/s]\u001b[A\n",
      " 70%|███████   | 14/20 [00:03<00:01,  3.58it/s]\u001b[A\n",
      " 75%|███████▌  | 15/20 [00:04<00:01,  3.56it/s]\u001b[A\n",
      " 80%|████████  | 16/20 [00:04<00:01,  3.56it/s]\u001b[A\n",
      " 85%|████████▌ | 17/20 [00:04<00:00,  3.56it/s]\u001b[A\n",
      " 90%|█████████ | 18/20 [00:05<00:00,  3.56it/s]\u001b[A\n",
      " 95%|█████████▌| 19/20 [00:05<00:00,  3.58it/s]\u001b[A\n",
      "100%|██████████| 20/20 [00:05<00:00,  3.56it/s]\u001b[A\n",
      "\u001b[A\u001b[33m[19:10:10][WARNING] =================================== Epoch 6 Done ! =================================== \u001b[0m\n"
     ]
    },
    {
     "name": "stdout",
     "output_type": "stream",
     "text": [
      "INFO:tensorflow:Restoring parameters from /home/angrypark/debug11/model.ckpt\n"
     ]
    },
    {
     "name": "stderr",
     "output_type": "stream",
     "text": [
      "\n",
      "  0%|          | 0/20 [00:00<?, ?it/s]\u001b[A\n",
      "  5%|▌         | 1/20 [00:00<00:03,  6.19it/s]\u001b[A\n",
      " 10%|█         | 2/20 [00:00<00:03,  5.24it/s]\u001b[A\n",
      " 15%|█▌        | 3/20 [00:00<00:03,  4.91it/s]\u001b[A\n",
      " 20%|██        | 4/20 [00:00<00:03,  4.73it/s]\u001b[A\n",
      " 25%|██▌       | 5/20 [00:01<00:03,  4.63it/s]\u001b[A\n",
      " 30%|███       | 6/20 [00:01<00:03,  4.65it/s]\u001b[A\n",
      " 35%|███▌      | 7/20 [00:01<00:02,  4.61it/s]\u001b[A\n",
      " 40%|████      | 8/20 [00:01<00:02,  4.59it/s]\u001b[A\n",
      " 45%|████▌     | 9/20 [00:01<00:02,  4.55it/s]\u001b[A\n",
      " 50%|█████     | 10/20 [00:02<00:02,  4.51it/s]\u001b[A\n",
      " 55%|█████▌    | 11/20 [00:02<00:02,  4.49it/s]\u001b[A\n",
      " 60%|██████    | 12/20 [00:02<00:01,  4.51it/s]\u001b[A\n",
      " 65%|██████▌   | 13/20 [00:02<00:01,  4.53it/s]\u001b[A\n",
      " 70%|███████   | 14/20 [00:03<00:01,  4.53it/s]\u001b[A\n",
      " 75%|███████▌  | 15/20 [00:03<00:01,  4.48it/s]\u001b[A\n",
      " 80%|████████  | 16/20 [00:03<00:00,  4.44it/s]\u001b[A\n",
      " 85%|████████▌ | 17/20 [00:03<00:00,  4.46it/s]\u001b[A\n",
      " 90%|█████████ | 18/20 [00:04<00:00,  4.50it/s]\u001b[A\n",
      " 95%|█████████▌| 19/20 [00:04<00:00,  4.51it/s]\u001b[A\n",
      "100%|██████████| 20/20 [00:04<00:00,  4.50it/s]\u001b[A\n",
      "\u001b[A\u001b[33m[19:10:16][WARNING] | Val loss : 4.5930 | Val accuracy : 0.5265  \u001b[0m\n",
      "\u001b[33m[19:10:16][WARNING] =================================== Epoch 7 Start ! =================================== \u001b[0m\n",
      "\n",
      "  0%|          | 0/20 [00:00<?, ?it/s]\u001b[A\n",
      "  5%|▌         | 1/20 [00:00<00:05,  3.63it/s]\u001b[A\n",
      " 10%|█         | 2/20 [00:00<00:04,  3.77it/s]\u001b[A\n",
      " 15%|█▌        | 3/20 [00:00<00:04,  3.67it/s]\u001b[A\n",
      " 20%|██        | 4/20 [00:01<00:04,  3.64it/s]\u001b[A\n",
      " 25%|██▌       | 5/20 [00:01<00:04,  3.69it/s]\u001b[A\n",
      " 30%|███       | 6/20 [00:01<00:03,  3.68it/s]\u001b[A\n",
      " 35%|███▌      | 7/20 [00:01<00:03,  3.62it/s]\u001b[A\n",
      " 40%|████      | 8/20 [00:02<00:03,  3.58it/s]\u001b[A\n",
      " 45%|████▌     | 9/20 [00:02<00:03,  3.62it/s]\u001b[A\n",
      " 50%|█████     | 10/20 [00:02<00:02,  3.62it/s]\u001b[A\n",
      " 55%|█████▌    | 11/20 [00:03<00:02,  3.65it/s]\u001b[A\n",
      " 60%|██████    | 12/20 [00:03<00:02,  3.66it/s]\u001b[A\n",
      " 65%|██████▌   | 13/20 [00:03<00:01,  3.63it/s]\u001b[A\n",
      " 70%|███████   | 14/20 [00:03<00:01,  3.61it/s]\u001b[A\n",
      " 75%|███████▌  | 15/20 [00:04<00:01,  3.60it/s]\u001b[A\n",
      " 80%|████████  | 16/20 [00:04<00:01,  3.58it/s]\u001b[A\n",
      " 85%|████████▌ | 17/20 [00:04<00:00,  3.57it/s]\u001b[A\n",
      " 90%|█████████ | 18/20 [00:05<00:00,  3.56it/s]\u001b[A\n",
      " 95%|█████████▌| 19/20 [00:05<00:00,  3.54it/s]\u001b[A\n",
      "100%|██████████| 20/20 [00:05<00:00,  3.53it/s]\u001b[A\n",
      "\u001b[A\u001b[33m[19:10:21][WARNING] =================================== Epoch 7 Done ! =================================== \u001b[0m\n"
     ]
    },
    {
     "name": "stdout",
     "output_type": "stream",
     "text": [
      "INFO:tensorflow:Restoring parameters from /home/angrypark/debug11/model.ckpt\n"
     ]
    },
    {
     "name": "stderr",
     "output_type": "stream",
     "text": [
      "\n",
      "  0%|          | 0/20 [00:00<?, ?it/s]\u001b[A\n",
      "  5%|▌         | 1/20 [00:00<00:03,  4.87it/s]\u001b[A\n",
      " 10%|█         | 2/20 [00:00<00:03,  4.79it/s]\u001b[A\n",
      " 15%|█▌        | 3/20 [00:00<00:03,  4.41it/s]\u001b[A\n",
      " 20%|██        | 4/20 [00:00<00:03,  4.43it/s]\u001b[A\n",
      " 25%|██▌       | 5/20 [00:01<00:03,  4.39it/s]\u001b[A\n",
      " 30%|███       | 6/20 [00:01<00:03,  4.36it/s]\u001b[A\n",
      " 35%|███▌      | 7/20 [00:01<00:02,  4.42it/s]\u001b[A\n",
      " 40%|████      | 8/20 [00:01<00:02,  4.43it/s]\u001b[A\n",
      " 45%|████▌     | 9/20 [00:02<00:02,  4.50it/s]\u001b[A\n",
      " 50%|█████     | 10/20 [00:02<00:02,  4.50it/s]\u001b[A\n",
      " 55%|█████▌    | 11/20 [00:02<00:02,  4.50it/s]\u001b[A\n",
      " 60%|██████    | 12/20 [00:02<00:01,  4.47it/s]\u001b[A\n",
      " 65%|██████▌   | 13/20 [00:02<00:01,  4.44it/s]\u001b[A\n",
      " 70%|███████   | 14/20 [00:03<00:01,  4.43it/s]\u001b[A\n",
      " 75%|███████▌  | 15/20 [00:03<00:01,  4.44it/s]\u001b[A\n",
      " 80%|████████  | 16/20 [00:03<00:00,  4.45it/s]\u001b[A\n",
      " 85%|████████▌ | 17/20 [00:03<00:00,  4.46it/s]\u001b[A\n",
      " 90%|█████████ | 18/20 [00:04<00:00,  4.44it/s]\u001b[A\n",
      " 95%|█████████▌| 19/20 [00:04<00:00,  4.43it/s]\u001b[A\n",
      "100%|██████████| 20/20 [00:04<00:00,  4.42it/s]\u001b[A\n",
      "\u001b[A\u001b[33m[19:10:27][WARNING] | Val loss : 4.2067 | Val accuracy : 0.4808  \u001b[0m\n",
      "\u001b[33m[19:10:27][WARNING] =================================== Epoch 8 Start ! =================================== \u001b[0m\n",
      "\n",
      "  0%|          | 0/20 [00:00<?, ?it/s]\u001b[A\n",
      "  5%|▌         | 1/20 [00:00<00:05,  3.23it/s]\u001b[A\n",
      " 10%|█         | 2/20 [00:00<00:05,  3.45it/s]\u001b[A\n",
      " 15%|█▌        | 3/20 [00:00<00:04,  3.42it/s]\u001b[A\n",
      " 20%|██        | 4/20 [00:01<00:04,  3.42it/s]\u001b[A\n",
      " 25%|██▌       | 5/20 [00:01<00:04,  3.41it/s]\u001b[A\n",
      " 30%|███       | 6/20 [00:01<00:04,  3.35it/s]\u001b[A\n",
      " 35%|███▌      | 7/20 [00:02<00:03,  3.39it/s]\u001b[A\n",
      " 40%|████      | 8/20 [00:02<00:03,  3.38it/s]\u001b[A\n",
      " 45%|████▌     | 9/20 [00:02<00:03,  3.35it/s]\u001b[A\n",
      " 50%|█████     | 10/20 [00:02<00:02,  3.34it/s]\u001b[A"
     ]
    },
    {
     "ename": "KeyboardInterrupt",
     "evalue": "",
     "output_type": "error",
     "traceback": [
      "\u001b[0;31m---------------------------------------------------------------------------\u001b[0m",
      "\u001b[0;31mKeyboardInterrupt\u001b[0m                         Traceback (most recent call last)",
      "\u001b[0;32m<ipython-input-29-3435b262f1ae>\u001b[0m in \u001b[0;36m<module>\u001b[0;34m()\u001b[0m\n\u001b[0;32m----> 1\u001b[0;31m \u001b[0mtrainer\u001b[0m\u001b[0;34m.\u001b[0m\u001b[0mtrain\u001b[0m\u001b[0;34m(\u001b[0m\u001b[0;34m)\u001b[0m\u001b[0;34m\u001b[0m\u001b[0m\n\u001b[0m",
      "\u001b[0;32m~/text-matching-tensoflow/trainer.py\u001b[0m in \u001b[0;36mtrain\u001b[0;34m(self)\u001b[0m\n\u001b[1;32m    213\u001b[0m                     \u001b[0;32mcontinue\u001b[0m\u001b[0;34m\u001b[0m\u001b[0m\n\u001b[1;32m    214\u001b[0m \u001b[0;34m\u001b[0m\u001b[0m\n\u001b[0;32m--> 215\u001b[0;31m                 \u001b[0mloss\u001b[0m\u001b[0;34m,\u001b[0m \u001b[0mscore\u001b[0m \u001b[0;34m=\u001b[0m \u001b[0mself\u001b[0m\u001b[0;34m.\u001b[0m\u001b[0mtrain_step\u001b[0m\u001b[0;34m(\u001b[0m\u001b[0mtrain_model\u001b[0m\u001b[0;34m,\u001b[0m \u001b[0mtrain_sess\u001b[0m\u001b[0;34m)\u001b[0m\u001b[0;34m\u001b[0m\u001b[0m\n\u001b[0m\u001b[1;32m    216\u001b[0m                 \u001b[0;32mif\u001b[0m \u001b[0mloss\u001b[0m\u001b[0;34m==\u001b[0m\u001b[0;32mNone\u001b[0m\u001b[0;34m:\u001b[0m\u001b[0;34m\u001b[0m\u001b[0m\n\u001b[1;32m    217\u001b[0m                     \u001b[0;32mcontinue\u001b[0m\u001b[0;34m\u001b[0m\u001b[0m\n",
      "\u001b[0;32m~/text-matching-tensoflow/trainer.py\u001b[0m in \u001b[0;36mtrain_step\u001b[0;34m(self, model, sess)\u001b[0m\n\u001b[1;32m    161\u001b[0m                                  self.infer_model.replies_lengths, self.infer_model.distances], \n\u001b[1;32m    162\u001b[0m                                 feed_dict={self.infer_model.dropout_keep_prob: 1, \n\u001b[0;32m--> 163\u001b[0;31m                                            self.infer_model.add_echo: False})\n\u001b[0m\u001b[1;32m    164\u001b[0m             feed_dict.update({model.input_queries: input_queries, \n\u001b[1;32m    165\u001b[0m                               \u001b[0mmodel\u001b[0m\u001b[0;34m.\u001b[0m\u001b[0minput_replies\u001b[0m\u001b[0;34m:\u001b[0m \u001b[0minput_replies\u001b[0m\u001b[0;34m,\u001b[0m\u001b[0;34m\u001b[0m\u001b[0m\n",
      "\u001b[0;32m~/angryenv/lib/python3.5/site-packages/tensorflow/python/client/session.py\u001b[0m in \u001b[0;36mrun\u001b[0;34m(self, fetches, feed_dict, options, run_metadata)\u001b[0m\n\u001b[1;32m    898\u001b[0m     \u001b[0;32mtry\u001b[0m\u001b[0;34m:\u001b[0m\u001b[0;34m\u001b[0m\u001b[0m\n\u001b[1;32m    899\u001b[0m       result = self._run(None, fetches, feed_dict, options_ptr,\n\u001b[0;32m--> 900\u001b[0;31m                          run_metadata_ptr)\n\u001b[0m\u001b[1;32m    901\u001b[0m       \u001b[0;32mif\u001b[0m \u001b[0mrun_metadata\u001b[0m\u001b[0;34m:\u001b[0m\u001b[0;34m\u001b[0m\u001b[0m\n\u001b[1;32m    902\u001b[0m         \u001b[0mproto_data\u001b[0m \u001b[0;34m=\u001b[0m \u001b[0mtf_session\u001b[0m\u001b[0;34m.\u001b[0m\u001b[0mTF_GetBuffer\u001b[0m\u001b[0;34m(\u001b[0m\u001b[0mrun_metadata_ptr\u001b[0m\u001b[0;34m)\u001b[0m\u001b[0;34m\u001b[0m\u001b[0m\n",
      "\u001b[0;32m~/angryenv/lib/python3.5/site-packages/tensorflow/python/client/session.py\u001b[0m in \u001b[0;36m_run\u001b[0;34m(self, handle, fetches, feed_dict, options, run_metadata)\u001b[0m\n\u001b[1;32m   1133\u001b[0m     \u001b[0;32mif\u001b[0m \u001b[0mfinal_fetches\u001b[0m \u001b[0;32mor\u001b[0m \u001b[0mfinal_targets\u001b[0m \u001b[0;32mor\u001b[0m \u001b[0;34m(\u001b[0m\u001b[0mhandle\u001b[0m \u001b[0;32mand\u001b[0m \u001b[0mfeed_dict_tensor\u001b[0m\u001b[0;34m)\u001b[0m\u001b[0;34m:\u001b[0m\u001b[0;34m\u001b[0m\u001b[0m\n\u001b[1;32m   1134\u001b[0m       results = self._do_run(handle, final_targets, final_fetches,\n\u001b[0;32m-> 1135\u001b[0;31m                              feed_dict_tensor, options, run_metadata)\n\u001b[0m\u001b[1;32m   1136\u001b[0m     \u001b[0;32melse\u001b[0m\u001b[0;34m:\u001b[0m\u001b[0;34m\u001b[0m\u001b[0m\n\u001b[1;32m   1137\u001b[0m       \u001b[0mresults\u001b[0m \u001b[0;34m=\u001b[0m \u001b[0;34m[\u001b[0m\u001b[0;34m]\u001b[0m\u001b[0;34m\u001b[0m\u001b[0m\n",
      "\u001b[0;32m~/angryenv/lib/python3.5/site-packages/tensorflow/python/client/session.py\u001b[0m in \u001b[0;36m_do_run\u001b[0;34m(self, handle, target_list, fetch_list, feed_dict, options, run_metadata)\u001b[0m\n\u001b[1;32m   1314\u001b[0m     \u001b[0;32mif\u001b[0m \u001b[0mhandle\u001b[0m \u001b[0;32mis\u001b[0m \u001b[0;32mNone\u001b[0m\u001b[0;34m:\u001b[0m\u001b[0;34m\u001b[0m\u001b[0m\n\u001b[1;32m   1315\u001b[0m       return self._do_call(_run_fn, feeds, fetches, targets, options,\n\u001b[0;32m-> 1316\u001b[0;31m                            run_metadata)\n\u001b[0m\u001b[1;32m   1317\u001b[0m     \u001b[0;32melse\u001b[0m\u001b[0;34m:\u001b[0m\u001b[0;34m\u001b[0m\u001b[0m\n\u001b[1;32m   1318\u001b[0m       \u001b[0;32mreturn\u001b[0m \u001b[0mself\u001b[0m\u001b[0;34m.\u001b[0m\u001b[0m_do_call\u001b[0m\u001b[0;34m(\u001b[0m\u001b[0m_prun_fn\u001b[0m\u001b[0;34m,\u001b[0m \u001b[0mhandle\u001b[0m\u001b[0;34m,\u001b[0m \u001b[0mfeeds\u001b[0m\u001b[0;34m,\u001b[0m \u001b[0mfetches\u001b[0m\u001b[0;34m)\u001b[0m\u001b[0;34m\u001b[0m\u001b[0m\n",
      "\u001b[0;32m~/angryenv/lib/python3.5/site-packages/tensorflow/python/client/session.py\u001b[0m in \u001b[0;36m_do_call\u001b[0;34m(self, fn, *args)\u001b[0m\n\u001b[1;32m   1320\u001b[0m   \u001b[0;32mdef\u001b[0m \u001b[0m_do_call\u001b[0m\u001b[0;34m(\u001b[0m\u001b[0mself\u001b[0m\u001b[0;34m,\u001b[0m \u001b[0mfn\u001b[0m\u001b[0;34m,\u001b[0m \u001b[0;34m*\u001b[0m\u001b[0margs\u001b[0m\u001b[0;34m)\u001b[0m\u001b[0;34m:\u001b[0m\u001b[0;34m\u001b[0m\u001b[0m\n\u001b[1;32m   1321\u001b[0m     \u001b[0;32mtry\u001b[0m\u001b[0;34m:\u001b[0m\u001b[0;34m\u001b[0m\u001b[0m\n\u001b[0;32m-> 1322\u001b[0;31m       \u001b[0;32mreturn\u001b[0m \u001b[0mfn\u001b[0m\u001b[0;34m(\u001b[0m\u001b[0;34m*\u001b[0m\u001b[0margs\u001b[0m\u001b[0;34m)\u001b[0m\u001b[0;34m\u001b[0m\u001b[0m\n\u001b[0m\u001b[1;32m   1323\u001b[0m     \u001b[0;32mexcept\u001b[0m \u001b[0merrors\u001b[0m\u001b[0;34m.\u001b[0m\u001b[0mOpError\u001b[0m \u001b[0;32mas\u001b[0m \u001b[0me\u001b[0m\u001b[0;34m:\u001b[0m\u001b[0;34m\u001b[0m\u001b[0m\n\u001b[1;32m   1324\u001b[0m       \u001b[0mmessage\u001b[0m \u001b[0;34m=\u001b[0m \u001b[0mcompat\u001b[0m\u001b[0;34m.\u001b[0m\u001b[0mas_text\u001b[0m\u001b[0;34m(\u001b[0m\u001b[0me\u001b[0m\u001b[0;34m.\u001b[0m\u001b[0mmessage\u001b[0m\u001b[0;34m)\u001b[0m\u001b[0;34m\u001b[0m\u001b[0m\n",
      "\u001b[0;32m~/angryenv/lib/python3.5/site-packages/tensorflow/python/client/session.py\u001b[0m in \u001b[0;36m_run_fn\u001b[0;34m(feed_dict, fetch_list, target_list, options, run_metadata)\u001b[0m\n\u001b[1;32m   1305\u001b[0m       \u001b[0mself\u001b[0m\u001b[0;34m.\u001b[0m\u001b[0m_extend_graph\u001b[0m\u001b[0;34m(\u001b[0m\u001b[0;34m)\u001b[0m\u001b[0;34m\u001b[0m\u001b[0m\n\u001b[1;32m   1306\u001b[0m       return self._call_tf_sessionrun(\n\u001b[0;32m-> 1307\u001b[0;31m           options, feed_dict, fetch_list, target_list, run_metadata)\n\u001b[0m\u001b[1;32m   1308\u001b[0m \u001b[0;34m\u001b[0m\u001b[0m\n\u001b[1;32m   1309\u001b[0m     \u001b[0;32mdef\u001b[0m \u001b[0m_prun_fn\u001b[0m\u001b[0;34m(\u001b[0m\u001b[0mhandle\u001b[0m\u001b[0;34m,\u001b[0m \u001b[0mfeed_dict\u001b[0m\u001b[0;34m,\u001b[0m \u001b[0mfetch_list\u001b[0m\u001b[0;34m)\u001b[0m\u001b[0;34m:\u001b[0m\u001b[0;34m\u001b[0m\u001b[0m\n",
      "\u001b[0;32m~/angryenv/lib/python3.5/site-packages/tensorflow/python/client/session.py\u001b[0m in \u001b[0;36m_call_tf_sessionrun\u001b[0;34m(self, options, feed_dict, fetch_list, target_list, run_metadata)\u001b[0m\n\u001b[1;32m   1407\u001b[0m       return tf_session.TF_SessionRun_wrapper(\n\u001b[1;32m   1408\u001b[0m           \u001b[0mself\u001b[0m\u001b[0;34m.\u001b[0m\u001b[0m_session\u001b[0m\u001b[0;34m,\u001b[0m \u001b[0moptions\u001b[0m\u001b[0;34m,\u001b[0m \u001b[0mfeed_dict\u001b[0m\u001b[0;34m,\u001b[0m \u001b[0mfetch_list\u001b[0m\u001b[0;34m,\u001b[0m \u001b[0mtarget_list\u001b[0m\u001b[0;34m,\u001b[0m\u001b[0;34m\u001b[0m\u001b[0m\n\u001b[0;32m-> 1409\u001b[0;31m           run_metadata)\n\u001b[0m\u001b[1;32m   1410\u001b[0m     \u001b[0;32melse\u001b[0m\u001b[0;34m:\u001b[0m\u001b[0;34m\u001b[0m\u001b[0m\n\u001b[1;32m   1411\u001b[0m       \u001b[0;32mwith\u001b[0m \u001b[0merrors\u001b[0m\u001b[0;34m.\u001b[0m\u001b[0mraise_exception_on_not_ok_status\u001b[0m\u001b[0;34m(\u001b[0m\u001b[0;34m)\u001b[0m \u001b[0;32mas\u001b[0m \u001b[0mstatus\u001b[0m\u001b[0;34m:\u001b[0m\u001b[0;34m\u001b[0m\u001b[0m\n",
      "\u001b[0;31mKeyboardInterrupt\u001b[0m: "
     ]
    }
   ],
   "source": [
    "trainer.train()"
   ]
  },
  {
   "cell_type": "code",
   "execution_count": 30,
   "metadata": {},
   "outputs": [
    {
     "name": "stderr",
     "output_type": "stream",
     "text": [
      "\u001b[32m[19:13:28][INFO] Building train graph... \u001b[0m\n"
     ]
    },
    {
     "name": "stdout",
     "output_type": "stream",
     "text": [
      "Pre-trained embedding loaded. Number of OOV : 5272 / 90000\n"
     ]
    },
    {
     "name": "stderr",
     "output_type": "stream",
     "text": [
      "/home/angrypark/angryenv/lib/python3.5/site-packages/tensorflow/python/ops/gradients_impl.py:100: UserWarning: Converting sparse IndexedSlices to a dense Tensor of unknown shape. This may consume a large amount of memory.\n",
      "  \"Converting sparse IndexedSlices to a dense Tensor of unknown shape. \"\n",
      "\u001b[32m[19:13:35][INFO] Loading checkpoint from /home/angrypark/debug11/ \u001b[0m\n"
     ]
    },
    {
     "name": "stdout",
     "output_type": "stream",
     "text": [
      "INFO:tensorflow:Restoring parameters from /home/angrypark/debug11/model.ckpt\n"
     ]
    }
   ],
   "source": [
    "model, sess = trainer.build_graph()"
   ]
  },
  {
   "cell_type": "code",
   "execution_count": 31,
   "metadata": {},
   "outputs": [],
   "source": [
    "feed_dict = {model.lstm_dropout_keep_prob: 1,\n",
    "             model.num_negative_samples: config.num_negative_samples,\n",
    "             model.embed_dropout_keep_prob: 1,\n",
    "             model.add_echo: False,}\n",
    "if config.weak_supervision:\n",
    "    input_queries, input_replies, query_lengths, reply_lengths, weak_distances = \\\n",
    "    trainer.infer_sess.run([trainer.infer_model.input_queries, \n",
    "                         trainer.infer_model.input_replies, \n",
    "                         trainer.infer_model.queries_lengths, \n",
    "                         trainer.infer_model.replies_lengths, \n",
    "                         trainer.infer_model.distances], \n",
    "                        feed_dict={trainer.infer_model.dropout_keep_prob: 1, \n",
    "                                   trainer.infer_model.add_echo: False})\n",
    "    feed_dict.update({model.input_queries: input_queries, \n",
    "                      model.input_replies: input_replies, \n",
    "                      model.query_lengths: query_lengths, \n",
    "                      model.reply_lengths: reply_lengths, \n",
    "                      model.weak_distances: weak_distances})"
   ]
  },
  {
   "cell_type": "code",
   "execution_count": 32,
   "metadata": {},
   "outputs": [],
   "source": [
    "input_queries, input_replies, query_lengths, reply_lengths, weak_distances, queries_encoded, \\\n",
    "replies_encoded, wp, wp_tiled, wd_normalized, positive_logits, positive_logits_tiled, positive_probs, logits, probs, \\\n",
    "predictions, labels, loss, accuracy = \\\n",
    "sess.run([model.input_queries, model.input_replies, model.query_lengths, model.reply_lengths, model.weak_distances, model.queries_encoded, \\\n",
    "model.replies_encoded, model.wp, model.wp_tiled, model.wd_normalized, model.positive_logits, model.positive_logits_tiled, model.positive_probs, model.logits, model.probs, \\\n",
    "model.predictions, model.labels, model.loss, model.accuracy], feed_dict=feed_dict)"
   ]
  },
  {
   "cell_type": "code",
   "execution_count": 48,
   "metadata": {},
   "outputs": [
    {
     "data": {
      "text/plain": [
       "(2557, 1)"
      ]
     },
     "execution_count": 48,
     "metadata": {},
     "output_type": "execute_result"
    }
   ],
   "source": [
    "logits.shape"
   ]
  },
  {
   "cell_type": "code",
   "execution_count": 57,
   "metadata": {},
   "outputs": [
    {
     "data": {
      "text/plain": [
       "array([0.72465878])"
      ]
     },
     "execution_count": 57,
     "metadata": {},
     "output_type": "execute_result"
    }
   ],
   "source": [
    "probs[7]"
   ]
  },
  {
   "cell_type": "code",
   "execution_count": 33,
   "metadata": {},
   "outputs": [
    {
     "data": {
      "text/plain": [
       "array([    1,   366,   194,  7357,  6376, 17994,  5088,  1562,  5474,\n",
       "           9,     2,     3,     3,     3,     3,     3,     3,     3,\n",
       "           3,     3])"
      ]
     },
     "execution_count": 33,
     "metadata": {},
     "output_type": "execute_result"
    }
   ],
   "source": [
    "input_queries[0]"
   ]
  },
  {
   "cell_type": "code",
   "execution_count": 34,
   "metadata": {},
   "outputs": [
    {
     "data": {
      "text/plain": [
       "(512, 20)"
      ]
     },
     "execution_count": 34,
     "metadata": {},
     "output_type": "execute_result"
    }
   ],
   "source": [
    "input_queries.shape"
   ]
  },
  {
   "cell_type": "code",
   "execution_count": 35,
   "metadata": {},
   "outputs": [
    {
     "data": {
      "text/plain": [
       "11"
      ]
     },
     "execution_count": 35,
     "metadata": {},
     "output_type": "execute_result"
    }
   ],
   "source": [
    "query_lengths[0]"
   ]
  },
  {
   "cell_type": "code",
   "execution_count": 36,
   "metadata": {},
   "outputs": [
    {
     "data": {
      "text/plain": [
       "(512, 512)"
      ]
     },
     "execution_count": 36,
     "metadata": {},
     "output_type": "execute_result"
    }
   ],
   "source": [
    "weak_distances.shape"
   ]
  },
  {
   "cell_type": "code",
   "execution_count": 37,
   "metadata": {},
   "outputs": [
    {
     "data": {
      "text/plain": [
       "(512, 1)"
      ]
     },
     "execution_count": 37,
     "metadata": {},
     "output_type": "execute_result"
    }
   ],
   "source": [
    "wp.shape"
   ]
  },
  {
   "cell_type": "code",
   "execution_count": 38,
   "metadata": {},
   "outputs": [
    {
     "data": {
      "text/plain": [
       "1.3597846"
      ]
     },
     "execution_count": 38,
     "metadata": {},
     "output_type": "execute_result"
    }
   ],
   "source": [
    "weak_distances[0, 0]"
   ]
  },
  {
   "cell_type": "code",
   "execution_count": 39,
   "metadata": {},
   "outputs": [
    {
     "data": {
      "text/plain": [
       "0.5617403"
      ]
     },
     "execution_count": 39,
     "metadata": {},
     "output_type": "execute_result"
    }
   ],
   "source": [
    "weak_distances[1, 1]"
   ]
  },
  {
   "cell_type": "code",
   "execution_count": 40,
   "metadata": {},
   "outputs": [
    {
     "data": {
      "text/plain": [
       "array([1.3597846], dtype=float32)"
      ]
     },
     "execution_count": 40,
     "metadata": {},
     "output_type": "execute_result"
    }
   ],
   "source": [
    "wp[0]"
   ]
  },
  {
   "cell_type": "code",
   "execution_count": 41,
   "metadata": {},
   "outputs": [
    {
     "data": {
      "text/plain": [
       "array([0.5617403], dtype=float32)"
      ]
     },
     "execution_count": 41,
     "metadata": {},
     "output_type": "execute_result"
    }
   ],
   "source": [
    "wp[1]"
   ]
  },
  {
   "cell_type": "code",
   "execution_count": 42,
   "metadata": {},
   "outputs": [
    {
     "data": {
      "text/plain": [
       "(512, 1)"
      ]
     },
     "execution_count": 42,
     "metadata": {},
     "output_type": "execute_result"
    }
   ],
   "source": [
    "wp.shape"
   ]
  },
  {
   "cell_type": "code",
   "execution_count": 43,
   "metadata": {},
   "outputs": [
    {
     "data": {
      "text/plain": [
       "array([[1.3597846 , 1.3597846 , 1.3597846 , ..., 1.3597846 , 1.3597846 ,\n",
       "        1.3597846 ],\n",
       "       [0.5617403 , 0.5617403 , 0.5617403 , ..., 0.5617403 , 0.5617403 ,\n",
       "        0.5617403 ],\n",
       "       [0.31464535, 0.31464535, 0.31464535, ..., 0.31464535, 0.31464535,\n",
       "        0.31464535],\n",
       "       ...,\n",
       "       [1.4918501 , 1.4918501 , 1.4918501 , ..., 1.4918501 , 1.4918501 ,\n",
       "        1.4918501 ],\n",
       "       [1.175457  , 1.175457  , 1.175457  , ..., 1.175457  , 1.175457  ,\n",
       "        1.175457  ],\n",
       "       [2.4541473 , 2.4541473 , 2.4541473 , ..., 2.4541473 , 2.4541473 ,\n",
       "        2.4541473 ]], dtype=float32)"
      ]
     },
     "execution_count": 43,
     "metadata": {},
     "output_type": "execute_result"
    }
   ],
   "source": [
    "wp_tiled"
   ]
  },
  {
   "cell_type": "code",
   "execution_count": 44,
   "metadata": {},
   "outputs": [
    {
     "data": {
      "text/plain": [
       "0.47946814"
      ]
     },
     "execution_count": 44,
     "metadata": {},
     "output_type": "execute_result"
    }
   ],
   "source": [
    "accuracy"
   ]
  },
  {
   "cell_type": "code",
   "execution_count": null,
   "metadata": {},
   "outputs": [],
   "source": []
  }
 ],
 "metadata": {
  "kernelspec": {
   "display_name": "angryenv",
   "language": "python",
   "name": "angryenv"
  },
  "language_info": {
   "codemirror_mode": {
    "name": "ipython",
    "version": 3
   },
   "file_extension": ".py",
   "mimetype": "text/x-python",
   "name": "python",
   "nbconvert_exporter": "python",
   "pygments_lexer": "ipython3",
   "version": "3.5.2"
  }
 },
 "nbformat": 4,
 "nbformat_minor": 2
}
